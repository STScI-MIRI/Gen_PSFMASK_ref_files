{
 "cells": [
  {
   "cell_type": "markdown",
   "metadata": {},
   "source": [
    "This jupyter notebook is used to correctly write out the PSF_MASK fits files - this jupyter nb is needed because Mathematica cannot properly write FITS files."
   ]
  },
  {
   "cell_type": "code",
   "execution_count": null,
   "metadata": {},
   "outputs": [],
   "source": [
    "from astropy.io import fits\n",
    "import os\n",
    "import glob\n",
    "import numpy as np\n",
    "import re\n",
    "from shutil import copyfile\n",
    "import matplotlib.pyplot as plt"
   ]
  },
  {
   "cell_type": "code",
   "execution_count": null,
   "metadata": {},
   "outputs": [],
   "source": [
    "# Relevant directories\n",
    "working_dir = os.getcwd()+'/'\n",
    "old_file_path = working_dir + 'psf_masks_old/' # old psfmasks\n",
    "new_file_path_mathematica = working_dir + 'psf_masks_new/mathematica_out/' # new psfmasks produced by Mathematica, which are missing the correct headers\n",
    "new_file_path = working_dir + 'psf_masks_new/' # finalized psfmask files with corrected headers"
   ]
  },
  {
   "cell_type": "code",
   "execution_count": null,
   "metadata": {},
   "outputs": [],
   "source": [
    "# Relevant filepaths\n",
    "old_psf_mask_paths = np.sort(glob.glob(old_file_path+'*.fits')) \n",
    "new_psf_mask_paths_mathematica = np.sort(glob.glob(new_file_path_mathematica+'*_pre.fits')) "
   ]
  },
  {
   "cell_type": "code",
   "execution_count": null,
   "metadata": {},
   "outputs": [],
   "source": [
    "print(old_psf_mask_paths)\n",
    "print(\"=======================================\")\n",
    "print(new_psf_mask_paths_mathematica)"
   ]
  },
  {
   "cell_type": "code",
   "execution_count": null,
   "metadata": {},
   "outputs": [],
   "source": [
    "hdus_old = [fits.open(path) for path in old_psf_mask_paths]\n",
    "hdus_mathematica = [fits.open(path) for path in new_psf_mask_paths_mathematica]"
   ]
  },
  {
   "cell_type": "code",
   "execution_count": null,
   "metadata": {},
   "outputs": [],
   "source": [
    "kk=3\n",
    "hdus_old[kk].info()\n",
    "print(\"=======================================\")\n",
    "hdus_mathematica[kk].info()"
   ]
  },
  {
   "cell_type": "code",
   "execution_count": null,
   "metadata": {},
   "outputs": [],
   "source": [
    "# Assign the Mathematica-generated files with the correct header formatting using the old ref files\n",
    "for i in range(0, len(hdus_old)):\n",
    "    hdus_old[i][1] = fits.ImageHDU(data = hdus_mathematica[i][0].data, header = hdus_old[i][1].header)\n",
    "    new_fnames = [re.sub('_pre', '_new', file) for file in new_psf_mask_paths_mathematica]\n",
    "    hdus_old[i].writeto(new_fnames[i], overwrite=True)\n",
    "\n",
    "# Copy the new psfmask ref files to the 'psf_mask_new' directory   \n",
    "for file_path in glob.glob(os.path.join(new_file_path_mathematica, '*new.fits')):\n",
    "    path, filename = os.path.split(file_path)\n",
    "    new_filename = filename.replace('_new.fits', '.fits')\n",
    "    new_psf_mask_path = new_file_path + new_filename\n",
    "    copyfile(file_path, new_psf_mask_path)"
   ]
  },
  {
   "cell_type": "code",
   "execution_count": null,
   "metadata": {},
   "outputs": [],
   "source": [
    "# Check the formatting of the new fits files\n",
    "new_psf_mask_paths = np.sort(glob.glob(new_file_path + '*.fits'))\n",
    "hdus_new = [fits.open(path) for path in new_psf_mask_paths]\n",
    "\n",
    "kk = 3\n",
    "hdus_old[kk].info()\n",
    "print(\"=======================================\")\n",
    "hdus_new[kk].info()"
   ]
  },
  {
   "cell_type": "code",
   "execution_count": null,
   "metadata": {},
   "outputs": [],
   "source": [
    "# Open each ref file and update the primary header\n",
    "for i, file in enumerate(new_psf_mask_paths):\n",
    "    f = fits.open(new_psf_mask_paths[i], mode='update')\n",
    "    hdr = f[0].header\n",
    "    hdr['HISTORY'][0] = 'Correction of previous PSFMASK ref files, by B. Hagan & B. Nickson'\n",
    "    hdr['HISTORY'][1] = 'DOCUMENT: N/A'\n",
    "    hdr['HISTORY'][2] = 'SOFTWARE: Mathematica 12'\n",
    "    hdr['HISTORY'][5] = \"DIFFERENCES: Previous PSFMASK was the wrong shape and incorrectly centered around the coronagraphic obstructions. New mask is a simple binary mask with a central hole equal to the size of the coronagraph's IWA.\"\n",
    "    hdr['AUTHOR'] = 'Coronagraphs Working Group (B. Nickson)'\n",
    "    hdr['EXP_TYPE'] = 'N/A'\n",
    "    f.close()"
   ]
  }
 ],
 "metadata": {
  "kernelspec": {
   "display_name": "Python 3 (ipykernel)",
   "language": "python",
   "name": "python3"
  },
  "language_info": {
   "codemirror_mode": {
    "name": "ipython",
    "version": 3
   },
   "file_extension": ".py",
   "mimetype": "text/x-python",
   "name": "python",
   "nbconvert_exporter": "python",
   "pygments_lexer": "ipython3",
   "version": "3.8.11"
  },
  "widgets": {
   "application/vnd.jupyter.widget-state+json": {
    "state": {},
    "version_major": 2,
    "version_minor": 0
   }
  }
 },
 "nbformat": 4,
 "nbformat_minor": 4
}
