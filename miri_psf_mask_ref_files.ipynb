{
 "cells": [
  {
   "cell_type": "markdown",
   "metadata": {},
   "source": [
    "This jupyter notebook is used to correctly write out the PSF_MASK fits files - this jupyter nb is needed because Mathematica cannot properly write FITS files."
   ]
  },
  {
   "cell_type": "code",
   "execution_count": null,
   "metadata": {},
   "outputs": [],
   "source": [
    "from astropy.io import fits"
   ]
  },
  {
   "cell_type": "code",
   "execution_count": 2,
   "metadata": {},
   "outputs": [],
   "source": [
    "import os\n",
    "import glob\n",
    "import numpy as np\n",
    "import re"
   ]
  },
  {
   "cell_type": "code",
   "execution_count": 3,
   "metadata": {},
   "outputs": [],
   "source": [
    "working_dir = os.getcwd()+'/'"
   ]
  },
  {
   "cell_type": "code",
   "execution_count": 8,
   "metadata": {},
   "outputs": [],
   "source": [
    "old_file_path = working_dir + 'psf_masks_old/'\n",
    "new_file_path_mathematica = working_dir + 'psf_masks_new/mathematica_out/'"
   ]
  },
  {
   "cell_type": "code",
   "execution_count": 9,
   "metadata": {},
   "outputs": [],
   "source": [
    "old_psf_mask_paths = np.sort(glob.glob(old_file_path+'*.fits'))\n",
    "new_psf_mask_paths_mathematica = np.sort(glob.glob(new_file_path_mathematica+'*.fits'))"
   ]
  },
  {
   "cell_type": "code",
   "execution_count": 10,
   "metadata": {},
   "outputs": [
    {
     "name": "stdout",
     "output_type": "stream",
     "text": [
      "['/Users/hagan/Master_Folder/James_Hagan/STScI/Functional/MIRI/MIRI_Pipeline_Testing/cal_pipe_testing/psf_masks_old/jwst_miri_psfmask_0001.fits'\n",
      " '/Users/hagan/Master_Folder/James_Hagan/STScI/Functional/MIRI/MIRI_Pipeline_Testing/cal_pipe_testing/psf_masks_old/jwst_miri_psfmask_0002.fits'\n",
      " '/Users/hagan/Master_Folder/James_Hagan/STScI/Functional/MIRI/MIRI_Pipeline_Testing/cal_pipe_testing/psf_masks_old/jwst_miri_psfmask_0003.fits'\n",
      " '/Users/hagan/Master_Folder/James_Hagan/STScI/Functional/MIRI/MIRI_Pipeline_Testing/cal_pipe_testing/psf_masks_old/jwst_miri_psfmask_0004.fits']\n",
      "=======================================\n",
      "['/Users/hagan/Master_Folder/James_Hagan/STScI/Functional/MIRI/MIRI_Pipeline_Testing/cal_pipe_testing/psf_masks_new/mathematica_out/jwst_miri_psfmask_0001_npre.fits'\n",
      " '/Users/hagan/Master_Folder/James_Hagan/STScI/Functional/MIRI/MIRI_Pipeline_Testing/cal_pipe_testing/psf_masks_new/mathematica_out/jwst_miri_psfmask_0002_npre.fits'\n",
      " '/Users/hagan/Master_Folder/James_Hagan/STScI/Functional/MIRI/MIRI_Pipeline_Testing/cal_pipe_testing/psf_masks_new/mathematica_out/jwst_miri_psfmask_0003_npre.fits'\n",
      " '/Users/hagan/Master_Folder/James_Hagan/STScI/Functional/MIRI/MIRI_Pipeline_Testing/cal_pipe_testing/psf_masks_new/mathematica_out/jwst_miri_psfmask_0004_npre.fits']\n"
     ]
    }
   ],
   "source": [
    "print(old_psf_mask_paths)\n",
    "print(\"=======================================\")\n",
    "print(new_psf_mask_paths_mathematica)"
   ]
  },
  {
   "cell_type": "code",
   "execution_count": 11,
   "metadata": {},
   "outputs": [],
   "source": [
    "hdus_old = [fits.open(path) for path in old_psf_mask_paths]\n",
    "hdus_mathematica = [fits.open(path) for path in new_psf_mask_paths_mathematica]"
   ]
  },
  {
   "cell_type": "code",
   "execution_count": 12,
   "metadata": {},
   "outputs": [
    {
     "name": "stdout",
     "output_type": "stream",
     "text": [
      "Filename: /Users/hagan/Master_Folder/James_Hagan/STScI/Functional/MIRI/MIRI_Pipeline_Testing/cal_pipe_testing/psf_masks_old/jwst_miri_psfmask_0004.fits\n",
      "No.    Name      Ver    Type      Cards   Dimensions   Format\n",
      "  0  PRIMARY       1 PrimaryHDU      36   ()      \n",
      "  1  SCI           1 ImageHDU         8   (320, 304)   float32   \n",
      "  2  ASDF          1 ImageHDU         7   (1343,)   uint8   \n",
      "=======================================\n",
      "Filename: /Users/hagan/Master_Folder/James_Hagan/STScI/Functional/MIRI/MIRI_Pipeline_Testing/cal_pipe_testing/psf_masks_new/mathematica_out/jwst_miri_psfmask_0004_npre.fits\n",
      "No.    Name      Ver    Type      Cards   Dimensions   Format\n",
      "  0  PRIMARY       1 PrimaryHDU      11   (320, 304)   float32   \n"
     ]
    }
   ],
   "source": [
    "kk=3\n",
    "hdus_old[kk].info()\n",
    "print(\"=======================================\")\n",
    "hdus_mathematica[kk].info()"
   ]
  },
  {
   "cell_type": "code",
   "execution_count": 13,
   "metadata": {},
   "outputs": [],
   "source": [
    "new_fnames = [re.sub('npre', 'new', file) for file in new_psf_mask_paths_mathematica]"
   ]
  },
  {
   "cell_type": "code",
   "execution_count": 14,
   "metadata": {},
   "outputs": [],
   "source": [
    "for i in range(0, len(hdus_old)):\n",
    "    hdus_old[i][1] = fits.ImageHDU(data = hdus_mathematica[i][0].data, header = hdus_old[i][1].header)\n",
    "    hdus_old[i].writeto(new_fnames[i])"
   ]
  },
  {
   "cell_type": "code",
   "execution_count": null,
   "metadata": {},
   "outputs": [],
   "source": []
  },
  {
   "cell_type": "code",
   "execution_count": null,
   "metadata": {},
   "outputs": [],
   "source": []
  }
 ],
 "metadata": {
  "kernelspec": {
   "display_name": "Python 3",
   "language": "python",
   "name": "python3"
  },
  "language_info": {
   "codemirror_mode": {
    "name": "ipython",
    "version": 3
   },
   "file_extension": ".py",
   "mimetype": "text/x-python",
   "name": "python",
   "nbconvert_exporter": "python",
   "pygments_lexer": "ipython3",
   "version": "3.7.6"
  },
  "widgets": {
   "application/vnd.jupyter.widget-state+json": {
    "state": {},
    "version_major": 2,
    "version_minor": 0
   }
  }
 },
 "nbformat": 4,
 "nbformat_minor": 4
}
